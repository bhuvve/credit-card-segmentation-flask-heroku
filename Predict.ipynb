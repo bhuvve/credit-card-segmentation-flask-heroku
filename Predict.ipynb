{
  "cells": [
    {
      "cell_type": "markdown",
      "metadata": {
        "id": "fzYUqFrVHUy2"
      },
      "source": [
        "## Credit Card Customer Segmentation\n",
        "- This case requires developing a customer segmentation to define marketing strategy\n",
        "- Unsupervised Learning - There is no target variable"
      ]
    },
    {
      "cell_type": "code",
      "execution_count": null,
      "metadata": {},
      "outputs": [],
      "source": []
    },
    {
      "cell_type": "code",
      "execution_count": null,
      "metadata": {},
      "outputs": [],
      "source": []
    },
    {
      "cell_type": "markdown",
      "metadata": {
        "id": "pa1Zjht6HUy5"
      },
      "source": [
        "#### Tasks\n",
        "- Prepare intelligent KPI's\n",
        "- Provide detailed insights based on the analysis\n",
        "- Cluster Analysis\n",
        "- Provide strategic insights"
      ]
    },
    {
      "cell_type": "markdown",
      "metadata": {
        "id": "GwpqnVN7HUy5"
      },
      "source": [
        "### Import Libraries"
      ]
    },
    {
      "cell_type": "code",
      "execution_count": 1,
      "metadata": {
        "id": "Fa_rs5kYHUy6"
      },
      "outputs": [],
      "source": [
        "import pandas as pd\n",
        "import numpy as np\n",
        "\n",
        "import matplotlib.pyplot as plt\n",
        "import seaborn as sns\n",
        "\n",
        "%matplotlib inline"
      ]
    },
    {
      "cell_type": "markdown",
      "metadata": {
        "id": "rZYTomF_HUy6"
      },
      "source": [
        "- Load Dataset"
      ]
    },
    {
      "cell_type": "code",
      "execution_count": 2,
      "metadata": {
        "id": "DcTRuqn_HUy7"
      },
      "outputs": [],
      "source": [
        "data_dict = {'CUST_ID': ['C10001'],\n",
        "             'BALANCE': [40.900749],\n",
        "             'BALANCE_FREQUENCY': [0.818182],\n",
        "             'PURCHASES': [95.4],\n",
        "             'ONEOFF_PURCHASES': [0],\n",
        "             'INSTALLMENTS_PURCHASES': [95.4],\n",
        "             'CASH_ADVANCE': [0],\n",
        "             'PURCHASES_FREQUENCY': [0.166667],\n",
        "             'ONEOFF_PURCHASES_FREQUENCY': [0],\n",
        "             'PURCHASES_INSTALLMENTS_FREQUENCY': [0.083333],\n",
        "             'CASH_ADVANCE_FREQUENCY': [0],\n",
        "             'CASH_ADVANCE_TRX': [0],\n",
        "             'PURCHASES_TRX': [2],\n",
        "             'CREDIT_LIMIT': [1000],\n",
        "             'PAYMENTS': [201.802084],\n",
        "             'MINIMUM_PAYMENTS': [139.509787],\n",
        "             'PRC_FULL_PAYMENT': [0],\n",
        "             'TENURE': [12]\n",
        "             }\n"
      ]
    },
    {
      "cell_type": "code",
      "execution_count": 3,
      "metadata": {},
      "outputs": [],
      "source": [
        "import pandas as pd\n",
        "\n",
        "df = pd.DataFrame.from_dict(data_dict)"
      ]
    },
    {
      "cell_type": "code",
      "execution_count": 4,
      "metadata": {},
      "outputs": [
        {
          "data": {
            "text/html": [
              "<div>\n",
              "<style scoped>\n",
              "    .dataframe tbody tr th:only-of-type {\n",
              "        vertical-align: middle;\n",
              "    }\n",
              "\n",
              "    .dataframe tbody tr th {\n",
              "        vertical-align: top;\n",
              "    }\n",
              "\n",
              "    .dataframe thead th {\n",
              "        text-align: right;\n",
              "    }\n",
              "</style>\n",
              "<table border=\"1\" class=\"dataframe\">\n",
              "  <thead>\n",
              "    <tr style=\"text-align: right;\">\n",
              "      <th></th>\n",
              "      <th>CUST_ID</th>\n",
              "      <th>BALANCE</th>\n",
              "      <th>BALANCE_FREQUENCY</th>\n",
              "      <th>PURCHASES</th>\n",
              "      <th>ONEOFF_PURCHASES</th>\n",
              "      <th>INSTALLMENTS_PURCHASES</th>\n",
              "      <th>CASH_ADVANCE</th>\n",
              "      <th>PURCHASES_FREQUENCY</th>\n",
              "      <th>ONEOFF_PURCHASES_FREQUENCY</th>\n",
              "      <th>PURCHASES_INSTALLMENTS_FREQUENCY</th>\n",
              "      <th>CASH_ADVANCE_FREQUENCY</th>\n",
              "      <th>CASH_ADVANCE_TRX</th>\n",
              "      <th>PURCHASES_TRX</th>\n",
              "      <th>CREDIT_LIMIT</th>\n",
              "      <th>PAYMENTS</th>\n",
              "      <th>MINIMUM_PAYMENTS</th>\n",
              "      <th>PRC_FULL_PAYMENT</th>\n",
              "      <th>TENURE</th>\n",
              "    </tr>\n",
              "  </thead>\n",
              "  <tbody>\n",
              "    <tr>\n",
              "      <th>0</th>\n",
              "      <td>C10001</td>\n",
              "      <td>40.900749</td>\n",
              "      <td>0.818182</td>\n",
              "      <td>95.4</td>\n",
              "      <td>0</td>\n",
              "      <td>95.4</td>\n",
              "      <td>0</td>\n",
              "      <td>0.166667</td>\n",
              "      <td>0</td>\n",
              "      <td>0.083333</td>\n",
              "      <td>0</td>\n",
              "      <td>0</td>\n",
              "      <td>2</td>\n",
              "      <td>1000</td>\n",
              "      <td>201.802084</td>\n",
              "      <td>139.509787</td>\n",
              "      <td>0</td>\n",
              "      <td>12</td>\n",
              "    </tr>\n",
              "  </tbody>\n",
              "</table>\n",
              "</div>"
            ],
            "text/plain": [
              "  CUST_ID    BALANCE  BALANCE_FREQUENCY  PURCHASES  ONEOFF_PURCHASES   \n",
              "0  C10001  40.900749           0.818182       95.4                 0  \\\n",
              "\n",
              "   INSTALLMENTS_PURCHASES  CASH_ADVANCE  PURCHASES_FREQUENCY   \n",
              "0                    95.4             0             0.166667  \\\n",
              "\n",
              "   ONEOFF_PURCHASES_FREQUENCY  PURCHASES_INSTALLMENTS_FREQUENCY   \n",
              "0                           0                          0.083333  \\\n",
              "\n",
              "   CASH_ADVANCE_FREQUENCY  CASH_ADVANCE_TRX  PURCHASES_TRX  CREDIT_LIMIT   \n",
              "0                       0                 0              2          1000  \\\n",
              "\n",
              "     PAYMENTS  MINIMUM_PAYMENTS  PRC_FULL_PAYMENT  TENURE  \n",
              "0  201.802084        139.509787                 0      12  "
            ]
          },
          "execution_count": 4,
          "metadata": {},
          "output_type": "execute_result"
        }
      ],
      "source": [
        "df"
      ]
    },
    {
      "cell_type": "code",
      "execution_count": 36,
      "metadata": {},
      "outputs": [
        {
          "data": {
            "text/plain": [
              "Index(['CUST_ID', 'BALANCE', 'BALANCE_FREQUENCY', 'PURCHASES',\n",
              "       'ONEOFF_PURCHASES', 'INSTALLMENTS_PURCHASES', 'CASH_ADVANCE',\n",
              "       'PURCHASES_FREQUENCY', 'ONEOFF_PURCHASES_FREQUENCY',\n",
              "       'PURCHASES_INSTALLMENTS_FREQUENCY', 'CASH_ADVANCE_FREQUENCY',\n",
              "       'CASH_ADVANCE_TRX', 'PURCHASES_TRX', 'CREDIT_LIMIT', 'PAYMENTS',\n",
              "       'MINIMUM_PAYMENTS', 'PRC_FULL_PAYMENT', 'TENURE',\n",
              "       'Monthly_Avg_Purchase', 'Monthly_Cash_Advance', 'Balance_Credit_Ratio',\n",
              "       'Total_Payment_Ratio'],\n",
              "      dtype='object')"
            ]
          },
          "execution_count": 36,
          "metadata": {},
          "output_type": "execute_result"
        }
      ],
      "source": [
        "df.columns"
      ]
    },
    {
      "cell_type": "markdown",
      "metadata": {
        "id": "6shBCTDxHUy8"
      },
      "source": [
        "## Exploratory Data Analysis"
      ]
    },
    {
      "cell_type": "code",
      "execution_count": 5,
      "metadata": {
        "id": "QC8VRF5bHUy8",
        "outputId": "b144bde2-1eca-4246-d46b-a1fc5ed18154"
      },
      "outputs": [
        {
          "data": {
            "text/plain": [
              "(1, 18)"
            ]
          },
          "execution_count": 5,
          "metadata": {},
          "output_type": "execute_result"
        }
      ],
      "source": [
        "### data dimensions\n",
        "\n",
        "df.shape"
      ]
    },
    {
      "cell_type": "code",
      "execution_count": 6,
      "metadata": {
        "id": "4SeWSt5-HUy8",
        "outputId": "711bf572-6401-4804-a1db-b8de96736bb8"
      },
      "outputs": [
        {
          "name": "stdout",
          "output_type": "stream",
          "text": [
            "<class 'pandas.core.frame.DataFrame'>\n",
            "RangeIndex: 1 entries, 0 to 0\n",
            "Data columns (total 18 columns):\n",
            " #   Column                            Non-Null Count  Dtype  \n",
            "---  ------                            --------------  -----  \n",
            " 0   CUST_ID                           1 non-null      object \n",
            " 1   BALANCE                           1 non-null      float64\n",
            " 2   BALANCE_FREQUENCY                 1 non-null      float64\n",
            " 3   PURCHASES                         1 non-null      float64\n",
            " 4   ONEOFF_PURCHASES                  1 non-null      int64  \n",
            " 5   INSTALLMENTS_PURCHASES            1 non-null      float64\n",
            " 6   CASH_ADVANCE                      1 non-null      int64  \n",
            " 7   PURCHASES_FREQUENCY               1 non-null      float64\n",
            " 8   ONEOFF_PURCHASES_FREQUENCY        1 non-null      int64  \n",
            " 9   PURCHASES_INSTALLMENTS_FREQUENCY  1 non-null      float64\n",
            " 10  CASH_ADVANCE_FREQUENCY            1 non-null      int64  \n",
            " 11  CASH_ADVANCE_TRX                  1 non-null      int64  \n",
            " 12  PURCHASES_TRX                     1 non-null      int64  \n",
            " 13  CREDIT_LIMIT                      1 non-null      int64  \n",
            " 14  PAYMENTS                          1 non-null      float64\n",
            " 15  MINIMUM_PAYMENTS                  1 non-null      float64\n",
            " 16  PRC_FULL_PAYMENT                  1 non-null      int64  \n",
            " 17  TENURE                            1 non-null      int64  \n",
            "dtypes: float64(8), int64(9), object(1)\n",
            "memory usage: 276.0+ bytes\n"
          ]
        }
      ],
      "source": [
        "## Data Types\n",
        "df.info()"
      ]
    },
    {
      "cell_type": "markdown",
      "metadata": {
        "id": "OF6Zr9HjHUzA"
      },
      "source": [
        "----\n",
        "\n",
        "## Deriving New KPI\n",
        "\n",
        "---"
      ]
    },
    {
      "cell_type": "markdown",
      "metadata": {
        "id": "hiFT2CkSHUzA"
      },
      "source": [
        "#### Monthly Average Purchase"
      ]
    },
    {
      "cell_type": "code",
      "execution_count": 7,
      "metadata": {
        "id": "8lB8Z5xCHUzA"
      },
      "outputs": [],
      "source": [
        "df[\"Monthly_Avg_Purchase\"] = df[\"PURCHASES\"]/df[\"TENURE\"]"
      ]
    },
    {
      "cell_type": "code",
      "execution_count": 8,
      "metadata": {
        "id": "5Ai7haOxHUzB",
        "outputId": "8c0ab30e-9b61-4160-a03b-5186834f3838"
      },
      "outputs": [
        {
          "data": {
            "text/plain": [
              "0    7.95\n",
              "Name: Monthly_Avg_Purchase, dtype: float64"
            ]
          },
          "execution_count": 8,
          "metadata": {},
          "output_type": "execute_result"
        }
      ],
      "source": [
        "df[\"Monthly_Avg_Purchase\"].head()"
      ]
    },
    {
      "cell_type": "markdown",
      "metadata": {
        "id": "S_XHHICLHUzB"
      },
      "source": [
        "#### Monthly cash advance amount"
      ]
    },
    {
      "cell_type": "code",
      "execution_count": 9,
      "metadata": {
        "id": "fedo05aBHUzB"
      },
      "outputs": [],
      "source": [
        "df[\"Monthly_Cash_Advance\"] = df[\"CASH_ADVANCE\"]/df[\"TENURE\"]"
      ]
    },
    {
      "cell_type": "markdown",
      "metadata": {
        "id": "eVu4pWjqHUzB"
      },
      "source": [
        "### Purchase Type"
      ]
    },
    {
      "cell_type": "code",
      "execution_count": 10,
      "metadata": {
        "id": "eAg6impQHUzB",
        "outputId": "6e61e563-943d-4838-b36a-e4b6cc5d2adb"
      },
      "outputs": [
        {
          "data": {
            "text/html": [
              "<div>\n",
              "<style scoped>\n",
              "    .dataframe tbody tr th:only-of-type {\n",
              "        vertical-align: middle;\n",
              "    }\n",
              "\n",
              "    .dataframe tbody tr th {\n",
              "        vertical-align: top;\n",
              "    }\n",
              "\n",
              "    .dataframe thead th {\n",
              "        text-align: right;\n",
              "    }\n",
              "</style>\n",
              "<table border=\"1\" class=\"dataframe\">\n",
              "  <thead>\n",
              "    <tr style=\"text-align: right;\">\n",
              "      <th></th>\n",
              "      <th>ONEOFF_PURCHASES</th>\n",
              "      <th>INSTALLMENTS_PURCHASES</th>\n",
              "    </tr>\n",
              "  </thead>\n",
              "  <tbody>\n",
              "    <tr>\n",
              "      <th>0</th>\n",
              "      <td>0</td>\n",
              "      <td>95.4</td>\n",
              "    </tr>\n",
              "  </tbody>\n",
              "</table>\n",
              "</div>"
            ],
            "text/plain": [
              "   ONEOFF_PURCHASES  INSTALLMENTS_PURCHASES\n",
              "0                 0                    95.4"
            ]
          },
          "execution_count": 10,
          "metadata": {},
          "output_type": "execute_result"
        }
      ],
      "source": [
        "df.loc[:,[\"ONEOFF_PURCHASES\",\"INSTALLMENTS_PURCHASES\"]].head()"
      ]
    },
    {
      "cell_type": "markdown",
      "metadata": {
        "id": "VgAGBsHFHUzB"
      },
      "source": [
        "- Deriving the categorical variable based on user behaviour"
      ]
    },
    {
      "cell_type": "code",
      "execution_count": 11,
      "metadata": {
        "id": "180YU3u6HUzC"
      },
      "outputs": [],
      "source": [
        "def purchasetype(df):\n",
        "    data_dict = {\n",
        "        'Purchase_Type_BOTH_ONEOFF_INSTALLMENTS': 0,\n",
        "        'Purchase_Type_INSTALLMENTS': 0,\n",
        "        'Purchase_Type_NONE': 0,\n",
        "        'Purchase_Type_ONEOFF': 0\n",
        "    }\n",
        "    \n",
        "    for i, row in df.iterrows():\n",
        "        if (row[\"ONEOFF_PURCHASES\"] == 0) & (row[\"INSTALLMENTS_PURCHASES\"] == 0):\n",
        "            data_dict['Purchase_Type_NONE'] += 1\n",
        "        elif (row[\"ONEOFF_PURCHASES\"] > 0) & (row[\"INSTALLMENTS_PURCHASES\"] == 0):\n",
        "            data_dict['Purchase_Type_ONEOFF'] += 1\n",
        "        elif (row[\"ONEOFF_PURCHASES\"] == 0) & (row[\"INSTALLMENTS_PURCHASES\"] > 0):\n",
        "            data_dict['Purchase_Type_INSTALLMENTS'] += 1\n",
        "        elif (row[\"ONEOFF_PURCHASES\"] > 0) & (row[\"INSTALLMENTS_PURCHASES\"] > 0):\n",
        "            data_dict['Purchase_Type_BOTH_ONEOFF_INSTALLMENTS'] += 1\n",
        "    \n",
        "    return data_dict"
      ]
    },
    {
      "cell_type": "code",
      "execution_count": 12,
      "metadata": {},
      "outputs": [],
      "source": [
        "dummies_data = purchasetype(df)\n"
      ]
    },
    {
      "cell_type": "code",
      "execution_count": 13,
      "metadata": {},
      "outputs": [],
      "source": [
        "dummies = pd.DataFrame(pd.Series(dummies_data)).T\n"
      ]
    },
    {
      "cell_type": "markdown",
      "metadata": {
        "id": "fAtzfOctHUzC"
      },
      "source": [
        "### Limit usage\n",
        "\n",
        "- Balance to credit limit ratio"
      ]
    },
    {
      "cell_type": "code",
      "execution_count": 14,
      "metadata": {
        "id": "j17zBThvHUzC"
      },
      "outputs": [],
      "source": [
        "df[\"Balance_Credit_Ratio\"] = df[\"BALANCE\"]/df[\"CREDIT_LIMIT\"]"
      ]
    },
    {
      "cell_type": "code",
      "execution_count": 15,
      "metadata": {
        "id": "AF3qR1mNHUzD",
        "outputId": "2729ab2d-c695-4ffe-bf57-52101e68af11"
      },
      "outputs": [
        {
          "data": {
            "text/html": [
              "<div>\n",
              "<style scoped>\n",
              "    .dataframe tbody tr th:only-of-type {\n",
              "        vertical-align: middle;\n",
              "    }\n",
              "\n",
              "    .dataframe tbody tr th {\n",
              "        vertical-align: top;\n",
              "    }\n",
              "\n",
              "    .dataframe thead th {\n",
              "        text-align: right;\n",
              "    }\n",
              "</style>\n",
              "<table border=\"1\" class=\"dataframe\">\n",
              "  <thead>\n",
              "    <tr style=\"text-align: right;\">\n",
              "      <th></th>\n",
              "      <th>CUST_ID</th>\n",
              "      <th>BALANCE</th>\n",
              "      <th>BALANCE_FREQUENCY</th>\n",
              "      <th>PURCHASES</th>\n",
              "      <th>ONEOFF_PURCHASES</th>\n",
              "      <th>INSTALLMENTS_PURCHASES</th>\n",
              "      <th>CASH_ADVANCE</th>\n",
              "      <th>PURCHASES_FREQUENCY</th>\n",
              "      <th>ONEOFF_PURCHASES_FREQUENCY</th>\n",
              "      <th>PURCHASES_INSTALLMENTS_FREQUENCY</th>\n",
              "      <th>...</th>\n",
              "      <th>CASH_ADVANCE_TRX</th>\n",
              "      <th>PURCHASES_TRX</th>\n",
              "      <th>CREDIT_LIMIT</th>\n",
              "      <th>PAYMENTS</th>\n",
              "      <th>MINIMUM_PAYMENTS</th>\n",
              "      <th>PRC_FULL_PAYMENT</th>\n",
              "      <th>TENURE</th>\n",
              "      <th>Monthly_Avg_Purchase</th>\n",
              "      <th>Monthly_Cash_Advance</th>\n",
              "      <th>Balance_Credit_Ratio</th>\n",
              "    </tr>\n",
              "  </thead>\n",
              "  <tbody>\n",
              "    <tr>\n",
              "      <th>0</th>\n",
              "      <td>C10001</td>\n",
              "      <td>40.900749</td>\n",
              "      <td>0.818182</td>\n",
              "      <td>95.4</td>\n",
              "      <td>0</td>\n",
              "      <td>95.4</td>\n",
              "      <td>0</td>\n",
              "      <td>0.166667</td>\n",
              "      <td>0</td>\n",
              "      <td>0.083333</td>\n",
              "      <td>...</td>\n",
              "      <td>0</td>\n",
              "      <td>2</td>\n",
              "      <td>1000</td>\n",
              "      <td>201.802084</td>\n",
              "      <td>139.509787</td>\n",
              "      <td>0</td>\n",
              "      <td>12</td>\n",
              "      <td>7.95</td>\n",
              "      <td>0.0</td>\n",
              "      <td>0.040901</td>\n",
              "    </tr>\n",
              "  </tbody>\n",
              "</table>\n",
              "<p>1 rows × 21 columns</p>\n",
              "</div>"
            ],
            "text/plain": [
              "  CUST_ID    BALANCE  BALANCE_FREQUENCY  PURCHASES  ONEOFF_PURCHASES   \n",
              "0  C10001  40.900749           0.818182       95.4                 0  \\\n",
              "\n",
              "   INSTALLMENTS_PURCHASES  CASH_ADVANCE  PURCHASES_FREQUENCY   \n",
              "0                    95.4             0             0.166667  \\\n",
              "\n",
              "   ONEOFF_PURCHASES_FREQUENCY  PURCHASES_INSTALLMENTS_FREQUENCY  ...   \n",
              "0                           0                          0.083333  ...  \\\n",
              "\n",
              "   CASH_ADVANCE_TRX  PURCHASES_TRX  CREDIT_LIMIT    PAYMENTS   \n",
              "0                 0              2          1000  201.802084  \\\n",
              "\n",
              "   MINIMUM_PAYMENTS  PRC_FULL_PAYMENT  TENURE  Monthly_Avg_Purchase   \n",
              "0        139.509787                 0      12                  7.95  \\\n",
              "\n",
              "   Monthly_Cash_Advance  Balance_Credit_Ratio  \n",
              "0                   0.0              0.040901  \n",
              "\n",
              "[1 rows x 21 columns]"
            ]
          },
          "execution_count": 15,
          "metadata": {},
          "output_type": "execute_result"
        }
      ],
      "source": [
        "df.head()"
      ]
    },
    {
      "cell_type": "markdown",
      "metadata": {
        "id": "3cqitUQPHUzD"
      },
      "source": [
        "### Payments to Minimum Payments Ratio\n",
        "- Total Payment Ratio calculate it by dividing your total monthly credit payments by the total minimum due"
      ]
    },
    {
      "cell_type": "code",
      "execution_count": 16,
      "metadata": {
        "id": "ZvUxLNQHHUzD"
      },
      "outputs": [],
      "source": [
        "#added where clause to avoid division by zero\n",
        "\n",
        "df[\"Total_Payment_Ratio\"] = np.where(df[\"MINIMUM_PAYMENTS\"] == 0,df[\"MINIMUM_PAYMENTS\"], df[\"PAYMENTS\"]/df[\"MINIMUM_PAYMENTS\"])"
      ]
    },
    {
      "cell_type": "code",
      "execution_count": 17,
      "metadata": {
        "id": "tNr1UdL2HUzE"
      },
      "outputs": [],
      "source": [
        "creditcarddata = df.round(2)"
      ]
    },
    {
      "cell_type": "code",
      "execution_count": 18,
      "metadata": {
        "id": "AaFnPQz1HUzE",
        "outputId": "135cc9b5-2c0b-4757-dca6-cb549cf2e783"
      },
      "outputs": [
        {
          "data": {
            "text/html": [
              "<div>\n",
              "<style scoped>\n",
              "    .dataframe tbody tr th:only-of-type {\n",
              "        vertical-align: middle;\n",
              "    }\n",
              "\n",
              "    .dataframe tbody tr th {\n",
              "        vertical-align: top;\n",
              "    }\n",
              "\n",
              "    .dataframe thead th {\n",
              "        text-align: right;\n",
              "    }\n",
              "</style>\n",
              "<table border=\"1\" class=\"dataframe\">\n",
              "  <thead>\n",
              "    <tr style=\"text-align: right;\">\n",
              "      <th></th>\n",
              "      <th>CUST_ID</th>\n",
              "      <th>BALANCE</th>\n",
              "      <th>BALANCE_FREQUENCY</th>\n",
              "      <th>PURCHASES</th>\n",
              "      <th>ONEOFF_PURCHASES</th>\n",
              "      <th>INSTALLMENTS_PURCHASES</th>\n",
              "      <th>CASH_ADVANCE</th>\n",
              "      <th>PURCHASES_FREQUENCY</th>\n",
              "      <th>ONEOFF_PURCHASES_FREQUENCY</th>\n",
              "      <th>PURCHASES_INSTALLMENTS_FREQUENCY</th>\n",
              "      <th>...</th>\n",
              "      <th>PURCHASES_TRX</th>\n",
              "      <th>CREDIT_LIMIT</th>\n",
              "      <th>PAYMENTS</th>\n",
              "      <th>MINIMUM_PAYMENTS</th>\n",
              "      <th>PRC_FULL_PAYMENT</th>\n",
              "      <th>TENURE</th>\n",
              "      <th>Monthly_Avg_Purchase</th>\n",
              "      <th>Monthly_Cash_Advance</th>\n",
              "      <th>Balance_Credit_Ratio</th>\n",
              "      <th>Total_Payment_Ratio</th>\n",
              "    </tr>\n",
              "  </thead>\n",
              "  <tbody>\n",
              "    <tr>\n",
              "      <th>0</th>\n",
              "      <td>C10001</td>\n",
              "      <td>40.900749</td>\n",
              "      <td>0.818182</td>\n",
              "      <td>95.4</td>\n",
              "      <td>0</td>\n",
              "      <td>95.4</td>\n",
              "      <td>0</td>\n",
              "      <td>0.166667</td>\n",
              "      <td>0</td>\n",
              "      <td>0.083333</td>\n",
              "      <td>...</td>\n",
              "      <td>2</td>\n",
              "      <td>1000</td>\n",
              "      <td>201.802084</td>\n",
              "      <td>139.509787</td>\n",
              "      <td>0</td>\n",
              "      <td>12</td>\n",
              "      <td>7.95</td>\n",
              "      <td>0.0</td>\n",
              "      <td>0.040901</td>\n",
              "      <td>1.446508</td>\n",
              "    </tr>\n",
              "  </tbody>\n",
              "</table>\n",
              "<p>1 rows × 22 columns</p>\n",
              "</div>"
            ],
            "text/plain": [
              "  CUST_ID    BALANCE  BALANCE_FREQUENCY  PURCHASES  ONEOFF_PURCHASES   \n",
              "0  C10001  40.900749           0.818182       95.4                 0  \\\n",
              "\n",
              "   INSTALLMENTS_PURCHASES  CASH_ADVANCE  PURCHASES_FREQUENCY   \n",
              "0                    95.4             0             0.166667  \\\n",
              "\n",
              "   ONEOFF_PURCHASES_FREQUENCY  PURCHASES_INSTALLMENTS_FREQUENCY  ...   \n",
              "0                           0                          0.083333  ...  \\\n",
              "\n",
              "   PURCHASES_TRX  CREDIT_LIMIT    PAYMENTS  MINIMUM_PAYMENTS   \n",
              "0              2          1000  201.802084        139.509787  \\\n",
              "\n",
              "   PRC_FULL_PAYMENT  TENURE  Monthly_Avg_Purchase  Monthly_Cash_Advance   \n",
              "0                 0      12                  7.95                   0.0  \\\n",
              "\n",
              "   Balance_Credit_Ratio  Total_Payment_Ratio  \n",
              "0              0.040901             1.446508  \n",
              "\n",
              "[1 rows x 22 columns]"
            ]
          },
          "execution_count": 18,
          "metadata": {},
          "output_type": "execute_result"
        }
      ],
      "source": [
        "df.head()"
      ]
    },
    {
      "cell_type": "code",
      "execution_count": null,
      "metadata": {
        "id": "ogCWa-r5HUzG"
      },
      "outputs": [],
      "source": []
    },
    {
      "cell_type": "markdown",
      "metadata": {
        "id": "MO8GtoMWHUzG"
      },
      "source": [
        "### Data Segregation\n",
        "- Handling Categorical Variable"
      ]
    },
    {
      "cell_type": "code",
      "execution_count": 19,
      "metadata": {
        "id": "bgnQ4jAHHUzG"
      },
      "outputs": [],
      "source": [
        "#getting the numeric variable names and data\n",
        "df_numeric = df._get_numeric_data()"
      ]
    },
    {
      "cell_type": "code",
      "execution_count": 20,
      "metadata": {
        "id": "JYw6AsyHHUzH"
      },
      "outputs": [],
      "source": [
        "numeric_variable_names =  list(df_numeric.columns)"
      ]
    },
    {
      "cell_type": "code",
      "execution_count": 21,
      "metadata": {
        "id": "6emwnc9mHUzH",
        "outputId": "8567ce33-afe6-4708-d959-e3a0daa09ca4",
        "scrolled": true
      },
      "outputs": [
        {
          "data": {
            "text/plain": [
              "['BALANCE',\n",
              " 'BALANCE_FREQUENCY',\n",
              " 'PURCHASES',\n",
              " 'ONEOFF_PURCHASES',\n",
              " 'INSTALLMENTS_PURCHASES',\n",
              " 'CASH_ADVANCE',\n",
              " 'PURCHASES_FREQUENCY',\n",
              " 'ONEOFF_PURCHASES_FREQUENCY',\n",
              " 'PURCHASES_INSTALLMENTS_FREQUENCY',\n",
              " 'CASH_ADVANCE_FREQUENCY',\n",
              " 'CASH_ADVANCE_TRX',\n",
              " 'PURCHASES_TRX',\n",
              " 'CREDIT_LIMIT',\n",
              " 'PAYMENTS',\n",
              " 'MINIMUM_PAYMENTS',\n",
              " 'PRC_FULL_PAYMENT',\n",
              " 'TENURE',\n",
              " 'Monthly_Avg_Purchase',\n",
              " 'Monthly_Cash_Advance',\n",
              " 'Balance_Credit_Ratio',\n",
              " 'Total_Payment_Ratio']"
            ]
          },
          "execution_count": 21,
          "metadata": {},
          "output_type": "execute_result"
        }
      ],
      "source": [
        "numeric_variable_names"
      ]
    },
    {
      "cell_type": "markdown",
      "metadata": {
        "id": "q4_bStCNHUzH"
      },
      "source": [
        "There are many variables having extreme values, i am doing the log transformation on the dataset to remove the outlier effect"
      ]
    },
    {
      "cell_type": "code",
      "execution_count": 22,
      "metadata": {
        "id": "BulVXgYuHUzH"
      },
      "outputs": [],
      "source": [
        "#log transformation\n",
        "\n",
        "credit_log = df_numeric.apply(lambda x: np.log(x + 1))"
      ]
    },
    {
      "cell_type": "code",
      "execution_count": 23,
      "metadata": {
        "id": "FCfHB7sWHUzI",
        "outputId": "01cc8879-6985-4758-fe23-d5ac9802b604"
      },
      "outputs": [
        {
          "data": {
            "text/html": [
              "<div>\n",
              "<style scoped>\n",
              "    .dataframe tbody tr th:only-of-type {\n",
              "        vertical-align: middle;\n",
              "    }\n",
              "\n",
              "    .dataframe tbody tr th {\n",
              "        vertical-align: top;\n",
              "    }\n",
              "\n",
              "    .dataframe thead th {\n",
              "        text-align: right;\n",
              "    }\n",
              "</style>\n",
              "<table border=\"1\" class=\"dataframe\">\n",
              "  <thead>\n",
              "    <tr style=\"text-align: right;\">\n",
              "      <th></th>\n",
              "      <th>BALANCE</th>\n",
              "      <th>BALANCE_FREQUENCY</th>\n",
              "      <th>PURCHASES</th>\n",
              "      <th>ONEOFF_PURCHASES</th>\n",
              "      <th>INSTALLMENTS_PURCHASES</th>\n",
              "      <th>CASH_ADVANCE</th>\n",
              "      <th>PURCHASES_FREQUENCY</th>\n",
              "      <th>ONEOFF_PURCHASES_FREQUENCY</th>\n",
              "      <th>PURCHASES_INSTALLMENTS_FREQUENCY</th>\n",
              "      <th>CASH_ADVANCE_FREQUENCY</th>\n",
              "      <th>...</th>\n",
              "      <th>PURCHASES_TRX</th>\n",
              "      <th>CREDIT_LIMIT</th>\n",
              "      <th>PAYMENTS</th>\n",
              "      <th>MINIMUM_PAYMENTS</th>\n",
              "      <th>PRC_FULL_PAYMENT</th>\n",
              "      <th>TENURE</th>\n",
              "      <th>Monthly_Avg_Purchase</th>\n",
              "      <th>Monthly_Cash_Advance</th>\n",
              "      <th>Balance_Credit_Ratio</th>\n",
              "      <th>Total_Payment_Ratio</th>\n",
              "    </tr>\n",
              "  </thead>\n",
              "  <tbody>\n",
              "    <tr>\n",
              "      <th>count</th>\n",
              "      <td>1.000000</td>\n",
              "      <td>1.000000</td>\n",
              "      <td>1.000000</td>\n",
              "      <td>1.0</td>\n",
              "      <td>1.000000</td>\n",
              "      <td>1.0</td>\n",
              "      <td>1.000000</td>\n",
              "      <td>1.0</td>\n",
              "      <td>1.000000</td>\n",
              "      <td>1.0</td>\n",
              "      <td>...</td>\n",
              "      <td>1.000000</td>\n",
              "      <td>1.000000</td>\n",
              "      <td>1.000000</td>\n",
              "      <td>1.000000</td>\n",
              "      <td>1.0</td>\n",
              "      <td>1.000000</td>\n",
              "      <td>1.000000</td>\n",
              "      <td>1.0</td>\n",
              "      <td>1.000000</td>\n",
              "      <td>1.000000</td>\n",
              "    </tr>\n",
              "    <tr>\n",
              "      <th>mean</th>\n",
              "      <td>3.735304</td>\n",
              "      <td>0.597837</td>\n",
              "      <td>4.568506</td>\n",
              "      <td>0.0</td>\n",
              "      <td>4.568506</td>\n",
              "      <td>0.0</td>\n",
              "      <td>0.154151</td>\n",
              "      <td>0.0</td>\n",
              "      <td>0.080042</td>\n",
              "      <td>0.0</td>\n",
              "      <td>...</td>\n",
              "      <td>1.098612</td>\n",
              "      <td>6.908755</td>\n",
              "      <td>5.312231</td>\n",
              "      <td>4.945277</td>\n",
              "      <td>0.0</td>\n",
              "      <td>2.564949</td>\n",
              "      <td>2.191654</td>\n",
              "      <td>0.0</td>\n",
              "      <td>0.040086</td>\n",
              "      <td>0.894662</td>\n",
              "    </tr>\n",
              "    <tr>\n",
              "      <th>std</th>\n",
              "      <td>NaN</td>\n",
              "      <td>NaN</td>\n",
              "      <td>NaN</td>\n",
              "      <td>NaN</td>\n",
              "      <td>NaN</td>\n",
              "      <td>NaN</td>\n",
              "      <td>NaN</td>\n",
              "      <td>NaN</td>\n",
              "      <td>NaN</td>\n",
              "      <td>NaN</td>\n",
              "      <td>...</td>\n",
              "      <td>NaN</td>\n",
              "      <td>NaN</td>\n",
              "      <td>NaN</td>\n",
              "      <td>NaN</td>\n",
              "      <td>NaN</td>\n",
              "      <td>NaN</td>\n",
              "      <td>NaN</td>\n",
              "      <td>NaN</td>\n",
              "      <td>NaN</td>\n",
              "      <td>NaN</td>\n",
              "    </tr>\n",
              "    <tr>\n",
              "      <th>min</th>\n",
              "      <td>3.735304</td>\n",
              "      <td>0.597837</td>\n",
              "      <td>4.568506</td>\n",
              "      <td>0.0</td>\n",
              "      <td>4.568506</td>\n",
              "      <td>0.0</td>\n",
              "      <td>0.154151</td>\n",
              "      <td>0.0</td>\n",
              "      <td>0.080042</td>\n",
              "      <td>0.0</td>\n",
              "      <td>...</td>\n",
              "      <td>1.098612</td>\n",
              "      <td>6.908755</td>\n",
              "      <td>5.312231</td>\n",
              "      <td>4.945277</td>\n",
              "      <td>0.0</td>\n",
              "      <td>2.564949</td>\n",
              "      <td>2.191654</td>\n",
              "      <td>0.0</td>\n",
              "      <td>0.040086</td>\n",
              "      <td>0.894662</td>\n",
              "    </tr>\n",
              "    <tr>\n",
              "      <th>25%</th>\n",
              "      <td>3.735304</td>\n",
              "      <td>0.597837</td>\n",
              "      <td>4.568506</td>\n",
              "      <td>0.0</td>\n",
              "      <td>4.568506</td>\n",
              "      <td>0.0</td>\n",
              "      <td>0.154151</td>\n",
              "      <td>0.0</td>\n",
              "      <td>0.080042</td>\n",
              "      <td>0.0</td>\n",
              "      <td>...</td>\n",
              "      <td>1.098612</td>\n",
              "      <td>6.908755</td>\n",
              "      <td>5.312231</td>\n",
              "      <td>4.945277</td>\n",
              "      <td>0.0</td>\n",
              "      <td>2.564949</td>\n",
              "      <td>2.191654</td>\n",
              "      <td>0.0</td>\n",
              "      <td>0.040086</td>\n",
              "      <td>0.894662</td>\n",
              "    </tr>\n",
              "    <tr>\n",
              "      <th>50%</th>\n",
              "      <td>3.735304</td>\n",
              "      <td>0.597837</td>\n",
              "      <td>4.568506</td>\n",
              "      <td>0.0</td>\n",
              "      <td>4.568506</td>\n",
              "      <td>0.0</td>\n",
              "      <td>0.154151</td>\n",
              "      <td>0.0</td>\n",
              "      <td>0.080042</td>\n",
              "      <td>0.0</td>\n",
              "      <td>...</td>\n",
              "      <td>1.098612</td>\n",
              "      <td>6.908755</td>\n",
              "      <td>5.312231</td>\n",
              "      <td>4.945277</td>\n",
              "      <td>0.0</td>\n",
              "      <td>2.564949</td>\n",
              "      <td>2.191654</td>\n",
              "      <td>0.0</td>\n",
              "      <td>0.040086</td>\n",
              "      <td>0.894662</td>\n",
              "    </tr>\n",
              "    <tr>\n",
              "      <th>75%</th>\n",
              "      <td>3.735304</td>\n",
              "      <td>0.597837</td>\n",
              "      <td>4.568506</td>\n",
              "      <td>0.0</td>\n",
              "      <td>4.568506</td>\n",
              "      <td>0.0</td>\n",
              "      <td>0.154151</td>\n",
              "      <td>0.0</td>\n",
              "      <td>0.080042</td>\n",
              "      <td>0.0</td>\n",
              "      <td>...</td>\n",
              "      <td>1.098612</td>\n",
              "      <td>6.908755</td>\n",
              "      <td>5.312231</td>\n",
              "      <td>4.945277</td>\n",
              "      <td>0.0</td>\n",
              "      <td>2.564949</td>\n",
              "      <td>2.191654</td>\n",
              "      <td>0.0</td>\n",
              "      <td>0.040086</td>\n",
              "      <td>0.894662</td>\n",
              "    </tr>\n",
              "    <tr>\n",
              "      <th>max</th>\n",
              "      <td>3.735304</td>\n",
              "      <td>0.597837</td>\n",
              "      <td>4.568506</td>\n",
              "      <td>0.0</td>\n",
              "      <td>4.568506</td>\n",
              "      <td>0.0</td>\n",
              "      <td>0.154151</td>\n",
              "      <td>0.0</td>\n",
              "      <td>0.080042</td>\n",
              "      <td>0.0</td>\n",
              "      <td>...</td>\n",
              "      <td>1.098612</td>\n",
              "      <td>6.908755</td>\n",
              "      <td>5.312231</td>\n",
              "      <td>4.945277</td>\n",
              "      <td>0.0</td>\n",
              "      <td>2.564949</td>\n",
              "      <td>2.191654</td>\n",
              "      <td>0.0</td>\n",
              "      <td>0.040086</td>\n",
              "      <td>0.894662</td>\n",
              "    </tr>\n",
              "  </tbody>\n",
              "</table>\n",
              "<p>8 rows × 21 columns</p>\n",
              "</div>"
            ],
            "text/plain": [
              "        BALANCE  BALANCE_FREQUENCY  PURCHASES  ONEOFF_PURCHASES   \n",
              "count  1.000000           1.000000   1.000000               1.0  \\\n",
              "mean   3.735304           0.597837   4.568506               0.0   \n",
              "std         NaN                NaN        NaN               NaN   \n",
              "min    3.735304           0.597837   4.568506               0.0   \n",
              "25%    3.735304           0.597837   4.568506               0.0   \n",
              "50%    3.735304           0.597837   4.568506               0.0   \n",
              "75%    3.735304           0.597837   4.568506               0.0   \n",
              "max    3.735304           0.597837   4.568506               0.0   \n",
              "\n",
              "       INSTALLMENTS_PURCHASES  CASH_ADVANCE  PURCHASES_FREQUENCY   \n",
              "count                1.000000           1.0             1.000000  \\\n",
              "mean                 4.568506           0.0             0.154151   \n",
              "std                       NaN           NaN                  NaN   \n",
              "min                  4.568506           0.0             0.154151   \n",
              "25%                  4.568506           0.0             0.154151   \n",
              "50%                  4.568506           0.0             0.154151   \n",
              "75%                  4.568506           0.0             0.154151   \n",
              "max                  4.568506           0.0             0.154151   \n",
              "\n",
              "       ONEOFF_PURCHASES_FREQUENCY  PURCHASES_INSTALLMENTS_FREQUENCY   \n",
              "count                         1.0                          1.000000  \\\n",
              "mean                          0.0                          0.080042   \n",
              "std                           NaN                               NaN   \n",
              "min                           0.0                          0.080042   \n",
              "25%                           0.0                          0.080042   \n",
              "50%                           0.0                          0.080042   \n",
              "75%                           0.0                          0.080042   \n",
              "max                           0.0                          0.080042   \n",
              "\n",
              "       CASH_ADVANCE_FREQUENCY  ...  PURCHASES_TRX  CREDIT_LIMIT  PAYMENTS   \n",
              "count                     1.0  ...       1.000000      1.000000  1.000000  \\\n",
              "mean                      0.0  ...       1.098612      6.908755  5.312231   \n",
              "std                       NaN  ...            NaN           NaN       NaN   \n",
              "min                       0.0  ...       1.098612      6.908755  5.312231   \n",
              "25%                       0.0  ...       1.098612      6.908755  5.312231   \n",
              "50%                       0.0  ...       1.098612      6.908755  5.312231   \n",
              "75%                       0.0  ...       1.098612      6.908755  5.312231   \n",
              "max                       0.0  ...       1.098612      6.908755  5.312231   \n",
              "\n",
              "       MINIMUM_PAYMENTS  PRC_FULL_PAYMENT    TENURE  Monthly_Avg_Purchase   \n",
              "count          1.000000               1.0  1.000000              1.000000  \\\n",
              "mean           4.945277               0.0  2.564949              2.191654   \n",
              "std                 NaN               NaN       NaN                   NaN   \n",
              "min            4.945277               0.0  2.564949              2.191654   \n",
              "25%            4.945277               0.0  2.564949              2.191654   \n",
              "50%            4.945277               0.0  2.564949              2.191654   \n",
              "75%            4.945277               0.0  2.564949              2.191654   \n",
              "max            4.945277               0.0  2.564949              2.191654   \n",
              "\n",
              "       Monthly_Cash_Advance  Balance_Credit_Ratio  Total_Payment_Ratio  \n",
              "count                   1.0              1.000000             1.000000  \n",
              "mean                    0.0              0.040086             0.894662  \n",
              "std                     NaN                   NaN                  NaN  \n",
              "min                     0.0              0.040086             0.894662  \n",
              "25%                     0.0              0.040086             0.894662  \n",
              "50%                     0.0              0.040086             0.894662  \n",
              "75%                     0.0              0.040086             0.894662  \n",
              "max                     0.0              0.040086             0.894662  \n",
              "\n",
              "[8 rows x 21 columns]"
            ]
          },
          "execution_count": 23,
          "metadata": {},
          "output_type": "execute_result"
        }
      ],
      "source": [
        "credit_log.describe()"
      ]
    },
    {
      "cell_type": "code",
      "execution_count": 24,
      "metadata": {
        "id": "YARDcKdPHUzJ",
        "outputId": "ff6589ce-6b37-4254-d499-eb40611160a2",
        "scrolled": true
      },
      "outputs": [
        {
          "data": {
            "text/html": [
              "<div>\n",
              "<style scoped>\n",
              "    .dataframe tbody tr th:only-of-type {\n",
              "        vertical-align: middle;\n",
              "    }\n",
              "\n",
              "    .dataframe tbody tr th {\n",
              "        vertical-align: top;\n",
              "    }\n",
              "\n",
              "    .dataframe thead th {\n",
              "        text-align: right;\n",
              "    }\n",
              "</style>\n",
              "<table border=\"1\" class=\"dataframe\">\n",
              "  <thead>\n",
              "    <tr style=\"text-align: right;\">\n",
              "      <th></th>\n",
              "      <th>CUST_ID</th>\n",
              "      <th>BALANCE</th>\n",
              "      <th>BALANCE_FREQUENCY</th>\n",
              "      <th>PURCHASES</th>\n",
              "      <th>ONEOFF_PURCHASES</th>\n",
              "      <th>INSTALLMENTS_PURCHASES</th>\n",
              "      <th>CASH_ADVANCE</th>\n",
              "      <th>PURCHASES_FREQUENCY</th>\n",
              "      <th>ONEOFF_PURCHASES_FREQUENCY</th>\n",
              "      <th>PURCHASES_INSTALLMENTS_FREQUENCY</th>\n",
              "      <th>...</th>\n",
              "      <th>PRC_FULL_PAYMENT</th>\n",
              "      <th>TENURE</th>\n",
              "      <th>Monthly_Avg_Purchase</th>\n",
              "      <th>Monthly_Cash_Advance</th>\n",
              "      <th>Balance_Credit_Ratio</th>\n",
              "      <th>Total_Payment_Ratio</th>\n",
              "      <th>Purchase_Type_BOTH_ONEOFF_INSTALLMENTS</th>\n",
              "      <th>Purchase_Type_INSTALLMENTS</th>\n",
              "      <th>Purchase_Type_NONE</th>\n",
              "      <th>Purchase_Type_ONEOFF</th>\n",
              "    </tr>\n",
              "  </thead>\n",
              "  <tbody>\n",
              "    <tr>\n",
              "      <th>0</th>\n",
              "      <td>C10001</td>\n",
              "      <td>40.900749</td>\n",
              "      <td>0.818182</td>\n",
              "      <td>95.4</td>\n",
              "      <td>0</td>\n",
              "      <td>95.4</td>\n",
              "      <td>0</td>\n",
              "      <td>0.166667</td>\n",
              "      <td>0</td>\n",
              "      <td>0.083333</td>\n",
              "      <td>...</td>\n",
              "      <td>0</td>\n",
              "      <td>12</td>\n",
              "      <td>7.95</td>\n",
              "      <td>0.0</td>\n",
              "      <td>0.040901</td>\n",
              "      <td>1.446508</td>\n",
              "      <td>0</td>\n",
              "      <td>1</td>\n",
              "      <td>0</td>\n",
              "      <td>0</td>\n",
              "    </tr>\n",
              "  </tbody>\n",
              "</table>\n",
              "<p>1 rows × 26 columns</p>\n",
              "</div>"
            ],
            "text/plain": [
              "  CUST_ID    BALANCE  BALANCE_FREQUENCY  PURCHASES  ONEOFF_PURCHASES   \n",
              "0  C10001  40.900749           0.818182       95.4                 0  \\\n",
              "\n",
              "   INSTALLMENTS_PURCHASES  CASH_ADVANCE  PURCHASES_FREQUENCY   \n",
              "0                    95.4             0             0.166667  \\\n",
              "\n",
              "   ONEOFF_PURCHASES_FREQUENCY  PURCHASES_INSTALLMENTS_FREQUENCY  ...   \n",
              "0                           0                          0.083333  ...  \\\n",
              "\n",
              "   PRC_FULL_PAYMENT  TENURE  Monthly_Avg_Purchase  Monthly_Cash_Advance   \n",
              "0                 0      12                  7.95                   0.0  \\\n",
              "\n",
              "   Balance_Credit_Ratio  Total_Payment_Ratio   \n",
              "0              0.040901             1.446508  \\\n",
              "\n",
              "   Purchase_Type_BOTH_ONEOFF_INSTALLMENTS  Purchase_Type_INSTALLMENTS   \n",
              "0                                       0                           1  \\\n",
              "\n",
              "   Purchase_Type_NONE  Purchase_Type_ONEOFF  \n",
              "0                   0                     0  \n",
              "\n",
              "[1 rows x 26 columns]"
            ]
          },
          "execution_count": 24,
          "metadata": {},
          "output_type": "execute_result"
        }
      ],
      "source": [
        "pd.concat([df,dummies],axis=1).head()"
      ]
    },
    {
      "cell_type": "code",
      "execution_count": 25,
      "metadata": {
        "id": "_bq-2vH6HUzJ"
      },
      "outputs": [],
      "source": [
        "#keeping an orignal data copy\n",
        "\n",
        "creditcarddata_org = pd.concat([df,dummies],axis=1)"
      ]
    },
    {
      "cell_type": "code",
      "execution_count": 26,
      "metadata": {},
      "outputs": [
        {
          "data": {
            "text/plain": [
              "Index(['CUST_ID', 'BALANCE', 'BALANCE_FREQUENCY', 'PURCHASES',\n",
              "       'ONEOFF_PURCHASES', 'INSTALLMENTS_PURCHASES', 'CASH_ADVANCE',\n",
              "       'PURCHASES_FREQUENCY', 'ONEOFF_PURCHASES_FREQUENCY',\n",
              "       'PURCHASES_INSTALLMENTS_FREQUENCY', 'CASH_ADVANCE_FREQUENCY',\n",
              "       'CASH_ADVANCE_TRX', 'PURCHASES_TRX', 'CREDIT_LIMIT', 'PAYMENTS',\n",
              "       'MINIMUM_PAYMENTS', 'PRC_FULL_PAYMENT', 'TENURE',\n",
              "       'Monthly_Avg_Purchase', 'Monthly_Cash_Advance', 'Balance_Credit_Ratio',\n",
              "       'Total_Payment_Ratio', 'Purchase_Type_BOTH_ONEOFF_INSTALLMENTS',\n",
              "       'Purchase_Type_INSTALLMENTS', 'Purchase_Type_NONE',\n",
              "       'Purchase_Type_ONEOFF'],\n",
              "      dtype='object')"
            ]
          },
          "execution_count": 26,
          "metadata": {},
          "output_type": "execute_result"
        }
      ],
      "source": [
        "creditcarddata_org.columns"
      ]
    },
    {
      "cell_type": "code",
      "execution_count": 27,
      "metadata": {
        "id": "sQIEcoZUHUzJ"
      },
      "outputs": [],
      "source": [
        "#merging the log data and dummies data\n",
        "creditcarddata_merged = pd.concat([credit_log,dummies],axis = 1)"
      ]
    },
    {
      "cell_type": "code",
      "execution_count": 28,
      "metadata": {},
      "outputs": [
        {
          "data": {
            "text/html": [
              "<div>\n",
              "<style scoped>\n",
              "    .dataframe tbody tr th:only-of-type {\n",
              "        vertical-align: middle;\n",
              "    }\n",
              "\n",
              "    .dataframe tbody tr th {\n",
              "        vertical-align: top;\n",
              "    }\n",
              "\n",
              "    .dataframe thead th {\n",
              "        text-align: right;\n",
              "    }\n",
              "</style>\n",
              "<table border=\"1\" class=\"dataframe\">\n",
              "  <thead>\n",
              "    <tr style=\"text-align: right;\">\n",
              "      <th></th>\n",
              "      <th>BALANCE</th>\n",
              "      <th>BALANCE_FREQUENCY</th>\n",
              "      <th>PURCHASES</th>\n",
              "      <th>ONEOFF_PURCHASES</th>\n",
              "      <th>INSTALLMENTS_PURCHASES</th>\n",
              "      <th>CASH_ADVANCE</th>\n",
              "      <th>PURCHASES_FREQUENCY</th>\n",
              "      <th>ONEOFF_PURCHASES_FREQUENCY</th>\n",
              "      <th>PURCHASES_INSTALLMENTS_FREQUENCY</th>\n",
              "      <th>CASH_ADVANCE_FREQUENCY</th>\n",
              "      <th>...</th>\n",
              "      <th>PRC_FULL_PAYMENT</th>\n",
              "      <th>TENURE</th>\n",
              "      <th>Monthly_Avg_Purchase</th>\n",
              "      <th>Monthly_Cash_Advance</th>\n",
              "      <th>Balance_Credit_Ratio</th>\n",
              "      <th>Total_Payment_Ratio</th>\n",
              "      <th>Purchase_Type_BOTH_ONEOFF_INSTALLMENTS</th>\n",
              "      <th>Purchase_Type_INSTALLMENTS</th>\n",
              "      <th>Purchase_Type_NONE</th>\n",
              "      <th>Purchase_Type_ONEOFF</th>\n",
              "    </tr>\n",
              "  </thead>\n",
              "  <tbody>\n",
              "    <tr>\n",
              "      <th>0</th>\n",
              "      <td>3.735304</td>\n",
              "      <td>0.597837</td>\n",
              "      <td>4.568506</td>\n",
              "      <td>0.0</td>\n",
              "      <td>4.568506</td>\n",
              "      <td>0.0</td>\n",
              "      <td>0.154151</td>\n",
              "      <td>0.0</td>\n",
              "      <td>0.080042</td>\n",
              "      <td>0.0</td>\n",
              "      <td>...</td>\n",
              "      <td>0.0</td>\n",
              "      <td>2.564949</td>\n",
              "      <td>2.191654</td>\n",
              "      <td>0.0</td>\n",
              "      <td>0.040086</td>\n",
              "      <td>0.894662</td>\n",
              "      <td>0</td>\n",
              "      <td>1</td>\n",
              "      <td>0</td>\n",
              "      <td>0</td>\n",
              "    </tr>\n",
              "  </tbody>\n",
              "</table>\n",
              "<p>1 rows × 25 columns</p>\n",
              "</div>"
            ],
            "text/plain": [
              "    BALANCE  BALANCE_FREQUENCY  PURCHASES  ONEOFF_PURCHASES   \n",
              "0  3.735304           0.597837   4.568506               0.0  \\\n",
              "\n",
              "   INSTALLMENTS_PURCHASES  CASH_ADVANCE  PURCHASES_FREQUENCY   \n",
              "0                4.568506           0.0             0.154151  \\\n",
              "\n",
              "   ONEOFF_PURCHASES_FREQUENCY  PURCHASES_INSTALLMENTS_FREQUENCY   \n",
              "0                         0.0                          0.080042  \\\n",
              "\n",
              "   CASH_ADVANCE_FREQUENCY  ...  PRC_FULL_PAYMENT    TENURE   \n",
              "0                     0.0  ...               0.0  2.564949  \\\n",
              "\n",
              "   Monthly_Avg_Purchase  Monthly_Cash_Advance  Balance_Credit_Ratio   \n",
              "0              2.191654                   0.0              0.040086  \\\n",
              "\n",
              "   Total_Payment_Ratio  Purchase_Type_BOTH_ONEOFF_INSTALLMENTS   \n",
              "0             0.894662                                       0  \\\n",
              "\n",
              "   Purchase_Type_INSTALLMENTS  Purchase_Type_NONE  Purchase_Type_ONEOFF  \n",
              "0                           1                   0                     0  \n",
              "\n",
              "[1 rows x 25 columns]"
            ]
          },
          "execution_count": 28,
          "metadata": {},
          "output_type": "execute_result"
        }
      ],
      "source": [
        "creditcarddata_merged.head()"
      ]
    },
    {
      "cell_type": "code",
      "execution_count": 29,
      "metadata": {
        "id": "LpUuuT7sHUzJ"
      },
      "outputs": [],
      "source": [
        "##dropping the variables used to create the KPI\n",
        "var_names = [\"BALANCE\",\"PURCHASES\",\"PAYMENTS\",\"MINIMUM_PAYMENTS\",\"PRC_FULL_PAYMENT\",\"TENURE\",\"CASH_ADVANCE\",\"CREDIT_LIMIT\"]\n",
        "\n",
        "\n",
        "creditcarddata_new = creditcarddata_merged[[x for x in creditcarddata_merged.columns if x not in var_names]]"
      ]
    },
    {
      "cell_type": "code",
      "execution_count": 30,
      "metadata": {
        "id": "TDywHRBmHUzJ",
        "outputId": "1514f2bd-5572-4b92-bc42-5360745a4e39"
      },
      "outputs": [
        {
          "data": {
            "text/html": [
              "<div>\n",
              "<style scoped>\n",
              "    .dataframe tbody tr th:only-of-type {\n",
              "        vertical-align: middle;\n",
              "    }\n",
              "\n",
              "    .dataframe tbody tr th {\n",
              "        vertical-align: top;\n",
              "    }\n",
              "\n",
              "    .dataframe thead th {\n",
              "        text-align: right;\n",
              "    }\n",
              "</style>\n",
              "<table border=\"1\" class=\"dataframe\">\n",
              "  <thead>\n",
              "    <tr style=\"text-align: right;\">\n",
              "      <th></th>\n",
              "      <th>BALANCE_FREQUENCY</th>\n",
              "      <th>ONEOFF_PURCHASES</th>\n",
              "      <th>INSTALLMENTS_PURCHASES</th>\n",
              "      <th>PURCHASES_FREQUENCY</th>\n",
              "      <th>ONEOFF_PURCHASES_FREQUENCY</th>\n",
              "      <th>PURCHASES_INSTALLMENTS_FREQUENCY</th>\n",
              "      <th>CASH_ADVANCE_FREQUENCY</th>\n",
              "      <th>CASH_ADVANCE_TRX</th>\n",
              "      <th>PURCHASES_TRX</th>\n",
              "      <th>Monthly_Avg_Purchase</th>\n",
              "      <th>Monthly_Cash_Advance</th>\n",
              "      <th>Balance_Credit_Ratio</th>\n",
              "      <th>Total_Payment_Ratio</th>\n",
              "      <th>Purchase_Type_BOTH_ONEOFF_INSTALLMENTS</th>\n",
              "      <th>Purchase_Type_INSTALLMENTS</th>\n",
              "      <th>Purchase_Type_NONE</th>\n",
              "      <th>Purchase_Type_ONEOFF</th>\n",
              "    </tr>\n",
              "  </thead>\n",
              "  <tbody>\n",
              "    <tr>\n",
              "      <th>0</th>\n",
              "      <td>0.597837</td>\n",
              "      <td>0.0</td>\n",
              "      <td>4.568506</td>\n",
              "      <td>0.154151</td>\n",
              "      <td>0.0</td>\n",
              "      <td>0.080042</td>\n",
              "      <td>0.0</td>\n",
              "      <td>0.0</td>\n",
              "      <td>1.098612</td>\n",
              "      <td>2.191654</td>\n",
              "      <td>0.0</td>\n",
              "      <td>0.040086</td>\n",
              "      <td>0.894662</td>\n",
              "      <td>0</td>\n",
              "      <td>1</td>\n",
              "      <td>0</td>\n",
              "      <td>0</td>\n",
              "    </tr>\n",
              "  </tbody>\n",
              "</table>\n",
              "</div>"
            ],
            "text/plain": [
              "   BALANCE_FREQUENCY  ONEOFF_PURCHASES  INSTALLMENTS_PURCHASES   \n",
              "0           0.597837               0.0                4.568506  \\\n",
              "\n",
              "   PURCHASES_FREQUENCY  ONEOFF_PURCHASES_FREQUENCY   \n",
              "0             0.154151                         0.0  \\\n",
              "\n",
              "   PURCHASES_INSTALLMENTS_FREQUENCY  CASH_ADVANCE_FREQUENCY  CASH_ADVANCE_TRX   \n",
              "0                          0.080042                     0.0               0.0  \\\n",
              "\n",
              "   PURCHASES_TRX  Monthly_Avg_Purchase  Monthly_Cash_Advance   \n",
              "0       1.098612              2.191654                   0.0  \\\n",
              "\n",
              "   Balance_Credit_Ratio  Total_Payment_Ratio   \n",
              "0              0.040086             0.894662  \\\n",
              "\n",
              "   Purchase_Type_BOTH_ONEOFF_INSTALLMENTS  Purchase_Type_INSTALLMENTS   \n",
              "0                                       0                           1  \\\n",
              "\n",
              "   Purchase_Type_NONE  Purchase_Type_ONEOFF  \n",
              "0                   0                     0  "
            ]
          },
          "execution_count": 30,
          "metadata": {},
          "output_type": "execute_result"
        }
      ],
      "source": [
        "creditcarddata_new.head()"
      ]
    },
    {
      "cell_type": "code",
      "execution_count": 31,
      "metadata": {},
      "outputs": [
        {
          "data": {
            "text/plain": [
              "(1, 17)"
            ]
          },
          "execution_count": 31,
          "metadata": {},
          "output_type": "execute_result"
        }
      ],
      "source": [
        "creditcarddata_new.shape"
      ]
    },
    {
      "cell_type": "code",
      "execution_count": 32,
      "metadata": {
        "id": "OqtiBsoyHUzJ",
        "outputId": "6b68a5fc-640b-4161-dc11-ff583e3b5d67"
      },
      "outputs": [
        {
          "data": {
            "text/plain": [
              "BALANCE_FREQUENCY                         float64\n",
              "ONEOFF_PURCHASES                          float64\n",
              "INSTALLMENTS_PURCHASES                    float64\n",
              "PURCHASES_FREQUENCY                       float64\n",
              "ONEOFF_PURCHASES_FREQUENCY                float64\n",
              "PURCHASES_INSTALLMENTS_FREQUENCY          float64\n",
              "CASH_ADVANCE_FREQUENCY                    float64\n",
              "CASH_ADVANCE_TRX                          float64\n",
              "PURCHASES_TRX                             float64\n",
              "Monthly_Avg_Purchase                      float64\n",
              "Monthly_Cash_Advance                      float64\n",
              "Balance_Credit_Ratio                      float64\n",
              "Total_Payment_Ratio                       float64\n",
              "Purchase_Type_BOTH_ONEOFF_INSTALLMENTS      int64\n",
              "Purchase_Type_INSTALLMENTS                  int64\n",
              "Purchase_Type_NONE                          int64\n",
              "Purchase_Type_ONEOFF                        int64\n",
              "dtype: object"
            ]
          },
          "execution_count": 32,
          "metadata": {},
          "output_type": "execute_result"
        }
      ],
      "source": [
        "#datatypes of new dataframe\n",
        "\n",
        "creditcarddata_new.dtypes"
      ]
    },
    {
      "cell_type": "code",
      "execution_count": 33,
      "metadata": {},
      "outputs": [
        {
          "name": "stdout",
          "output_type": "stream",
          "text": [
            "Requirement already satisfied: joblib in c:\\users\\bhuvv\\appdata\\local\\programs\\python\\python311\\lib\\site-packages (1.2.0)\n",
            "Note: you may need to restart the kernel to use updated packages.\n"
          ]
        },
        {
          "name": "stderr",
          "output_type": "stream",
          "text": [
            "\n",
            "[notice] A new release of pip available: 22.3.1 -> 23.1\n",
            "[notice] To update, run: python.exe -m pip install --upgrade pip\n"
          ]
        }
      ],
      "source": [
        "pip install joblib"
      ]
    },
    {
      "cell_type": "code",
      "execution_count": 34,
      "metadata": {},
      "outputs": [],
      "source": [
        "import joblib\n",
        "\n",
        "# load the model from the file\n",
        "km_4 = joblib.load(\"km_4_model.joblib\")\n",
        "\n",
        "# predict the clusters for new data\n",
        "labels = km_4.predict(creditcarddata_new)"
      ]
    },
    {
      "cell_type": "code",
      "execution_count": 35,
      "metadata": {},
      "outputs": [
        {
          "data": {
            "text/plain": [
              "array([2])"
            ]
          },
          "execution_count": 35,
          "metadata": {},
          "output_type": "execute_result"
        }
      ],
      "source": [
        "labels"
      ]
    }
  ],
  "metadata": {
    "colab": {
      "provenance": []
    },
    "kernelspec": {
      "display_name": "Python 3",
      "language": "python",
      "name": "python3"
    },
    "language_info": {
      "codemirror_mode": {
        "name": "ipython",
        "version": 3
      },
      "file_extension": ".py",
      "mimetype": "text/x-python",
      "name": "python",
      "nbconvert_exporter": "python",
      "pygments_lexer": "ipython3",
      "version": "3.11.3"
    },
    "vscode": {
      "interpreter": {
        "hash": "26de051ba29f2982a8de78e945f0abaf191376122a1563185a90213a26c5da77"
      }
    }
  },
  "nbformat": 4,
  "nbformat_minor": 0
}
